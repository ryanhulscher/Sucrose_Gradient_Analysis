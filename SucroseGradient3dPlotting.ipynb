{
 "cells": [
  {
   "cell_type": "code",
   "execution_count": 1,
   "metadata": {
    "collapsed": true
   },
   "outputs": [],
   "source": [
    "import pandas as pd"
   ]
  },
  {
   "cell_type": "code",
   "execution_count": 2,
   "metadata": {
    "collapsed": true
   },
   "outputs": [],
   "source": [
    "# Read in phosphate starvation .csv file\n",
    "data = pd.read_csv('/Users/rhulscher/Desktop/LabNotebook/2017_04_14_Starvation_Phos_Suc_Grad.csv') "
   ]
  },
  {
   "cell_type": "code",
   "execution_count": 3,
   "metadata": {
    "collapsed": true
   },
   "outputs": [],
   "source": [
    "# Remove rows with NaN values\n",
    "# Not totally necessary since I later truncate everything after 200 s. \n",
    "data = data.dropna()"
   ]
  },
  {
   "cell_type": "code",
   "execution_count": 4,
   "metadata": {
    "collapsed": true
   },
   "outputs": [],
   "source": [
    "# Remove all points after 200 s. \n",
    "data = data[:12001]"
   ]
  },
  {
   "cell_type": "code",
   "execution_count": 5,
   "metadata": {
    "collapsed": true
   },
   "outputs": [],
   "source": [
    "# Adjust the baseline, setting A256 to the absorbance at 200 s (which should be background).\n",
    "for x in data.columns[1:]:\n",
    "    data[x] -= data[x][12000]"
   ]
  },
  {
   "cell_type": "markdown",
   "metadata": {},
   "source": [
    "# Plotting 2D data on a 3D plot"
   ]
  },
  {
   "cell_type": "code",
   "execution_count": 7,
   "metadata": {},
   "outputs": [
    {
     "name": "stderr",
     "output_type": "stream",
     "text": [
      "/Users/rhulscher/anaconda/lib/python2.7/site-packages/matplotlib/axes/_axes.py:519: UserWarning: No labelled objects found. Use label='...' kwarg on individual plots.\n",
      "  warnings.warn(\"No labelled objects found. \"\n"
     ]
    }
   ],
   "source": [
    "from mpl_toolkits.mplot3d import Axes3D\n",
    "import numpy as np\n",
    "import matplotlib.pyplot as plt\n",
    "from matplotlib.collections import PolyCollection\n",
    "from matplotlib.colors import colorConverter\n",
    "\n",
    "fig = plt.figure()\n",
    "ax = fig.gca(projection='3d')\n",
    "#ax = fig.gca(projection='3d', yscale='log')\n",
    "\n",
    "cc = lambda arg: colorConverter.to_rgba(arg, alpha=0.6)\n",
    "\n",
    "# Set xs to be the time values (0 to 200 s in 1/60 s intervals)\n",
    "xs = data[data.columns[0]]\n",
    "\n",
    "# zs will be a list of the headers for each column. In this case, the starvation times.\n",
    "# I've truncated these such that they can be entered as floats. \n",
    "# This assumes the headers have the same format (i.e. '0 h', '1.5 h')\n",
    "# This will also work if 'hr' is used since the final 2 characters are truncated.\n",
    "zs = []\n",
    "for i in range(1,len(data.columns)):\n",
    "    zs.append(float(data.columns[i][:-2]))\n",
    "\n",
    "verts = []\n",
    "i = 1\n",
    "\n",
    "for z in zs:\n",
    "    if z <= ylim_max:\n",
    "        ys = data[data.columns[i]]\n",
    "        ys[0] = 0.0\n",
    "        verts.append(list(zip(xs, ys)))\n",
    "        i += 1\n",
    "    else:\n",
    "        pass\n",
    "\n",
    "# poly sets the grayscale for the shading of the curves\n",
    "poly = PolyCollection(verts, facecolors = [cc('0.75')] \n",
    "\n",
    "poly.set_alpha(0.6)\n",
    "ax.add_collection3d(poly, zs=zs, zdir='y')\n",
    "\n",
    "\n",
    "# Make legend, set axes limits and labels\n",
    "ax.legend()\n",
    "ax.set_xlim(0, 200)\n",
    "ax.set_ylim(ylim_max, 0)\n",
    "ax.set_zlim(0, 1.2)\n",
    "ax.set_xlabel('Sedimentation')\n",
    "ax.set_ylabel('Starvation (h)')\n",
    "ax.set_zlabel('A254')\n",
    "\n",
    "# Customize the view angle so it's easier to see that the scatter points lie on the plane y=0\n",
    "ax.view_init(elev=elev_var, azim=azim_var)\n",
    "\n",
    "plt.show()\n"
   ]
  },
 ],
 "metadata": {
  "kernelspec": {
   "display_name": "Python 2",
   "language": "python",
   "name": "python2"
  },
  "language_info": {
   "codemirror_mode": {
    "name": "ipython",
    "version": 2
   },
   "file_extension": ".py",
   "mimetype": "text/x-python",
   "name": "python",
   "nbconvert_exporter": "python",
   "pygments_lexer": "ipython2",
   "version": "2.7.11"
  }
 },
 "nbformat": 4,
 "nbformat_minor": 2
}
