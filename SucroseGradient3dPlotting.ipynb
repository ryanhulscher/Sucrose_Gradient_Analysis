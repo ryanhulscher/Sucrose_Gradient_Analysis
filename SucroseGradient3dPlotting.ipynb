{
 "cells": [
  {
   "cell_type": "code",
   "execution_count": 1,
   "metadata": {
    "collapsed": true
   },
   "outputs": [],
   "source": [
    "import pandas as pd"
   ]
  },
  {
   "cell_type": "code",
   "execution_count": 2,
   "metadata": {
    "collapsed": true
   },
   "outputs": [],
   "source": [
    "# Read in phosphate starvation .csv file\n",
    "data = pd.read_csv('/Users/rhulscher/Desktop/LabNotebook/2017_04_14_Starvation_Phos_Suc_Grad.csv') "
   ]
  },
  {
   "cell_type": "code",
   "execution_count": 3,
   "metadata": {
    "collapsed": true
   },
   "outputs": [],
   "source": [
    "# Remove rows with NaN values\n",
    "# Not totally necessary since I later truncate everything after 200 s. \n",
    "data = data.dropna()"
   ]
  },
  {
   "cell_type": "code",
   "execution_count": 4,
   "metadata": {
    "collapsed": true
   },
   "outputs": [],
   "source": [
    "# Remove all points after 200 s. \n",
    "data = data[:12001]"
   ]
  },
  {
   "cell_type": "code",
   "execution_count": 5,
   "metadata": {
    "collapsed": true
   },
   "outputs": [],
   "source": [
    "# Adjust the baseline, setting A256 to the absorbance at 200 s (which should be background).\n",
    "for x in data.columns[1:]:\n",
    "    data[x] -= data[x][12000]"
   ]
  },
  {
   "cell_type": "code",
   "execution_count": 6,
   "metadata": {
    "collapsed": true
   },
   "outputs": [],
   "source": [
    "# Settings parameters\n",
    "\n",
    "# ylim_max will be the greatest value on the y-axis\n",
    "ylim_max = 100\n",
    "\n",
    "# Plot settings\n",
    "elev_var = 70.\n",
    "azim_var = -90"
   ]
  },
  {
   "cell_type": "markdown",
   "metadata": {},
   "source": [
    "# Plotting 2D data on a 3D plot"
   ]
  },
  {
   "cell_type": "code",
   "execution_count": 7,
   "metadata": {},
   "outputs": [
    {
     "name": "stderr",
     "output_type": "stream",
     "text": [
      "/Users/rhulscher/anaconda/lib/python2.7/site-packages/matplotlib/axes/_axes.py:519: UserWarning: No labelled objects found. Use label='...' kwarg on individual plots.\n",
      "  warnings.warn(\"No labelled objects found. \"\n"
     ]
    }
   ],
   "source": [
    "from mpl_toolkits.mplot3d import Axes3D\n",
    "import numpy as np\n",
    "import matplotlib.pyplot as plt\n",
    "from matplotlib.collections import PolyCollection\n",
    "from matplotlib.colors import colorConverter\n",
    "\n",
    "fig = plt.figure()\n",
    "ax = fig.gca(projection='3d')\n",
    "#ax = fig.gca(projection='3d', yscale='log')\n",
    "\n",
    "cc = lambda arg: colorConverter.to_rgba(arg, alpha=0.6)\n",
    "\n",
    "# Set xs to be the time values (0 to 200 s in 1/60 s intervals)\n",
    "xs = data[data.columns[0]]\n",
    "\n",
    "# zs will be a list of the headers for each column. In this case, the starvation times.\n",
    "# I've truncated these such that they can be entered as floats. \n",
    "# This assumes the headers have the same format (i.e. '0 h', '1.5 h')\n",
    "# This will also work if 'hr' is used since the final 2 characters are truncated.\n",
    "zs = []\n",
    "for i in range(1,len(data.columns)):\n",
    "    zs.append(float(data.columns[i][:-2]))\n",
    "\n",
    "verts = []\n",
    "i = 1\n",
    "\n",
    "for z in zs:\n",
    "    if z <= ylim_max:\n",
    "        ys = data[data.columns[i]]\n",
    "        ys[0] = 0.0\n",
    "        verts.append(list(zip(xs, ys)))\n",
    "        i += 1\n",
    "    else:\n",
    "        pass\n",
    "\n",
    "# poly sets the grayscale for the shading of the curves.\n",
    "poly = PolyCollection(verts, facecolors = [cc('0.75')])\n",
    "\n",
    "poly.set_alpha(0.6)\n",
    "ax.add_collection3d(poly, zs=zs, zdir='y')\n",
    "\n",
    "\n",
    "# Make legend, set axes limits and labels\n",
    "ax.legend()\n",
    "ax.set_xlim(0, 200)\n",
    "ax.set_ylim(ylim_max, 0)\n",
    "ax.set_zlim(0, 1.2)\n",
    "ax.set_xlabel('Sedimentation')\n",
    "ax.set_ylabel('Starvation (h)')\n",
    "ax.set_zlabel('A254')\n",
    "\n",
    "# Customize the view angle so it's easier to see that the scatter points lie on the plane y=0\n",
    "ax.view_init(elev=elev_var, azim=azim_var)\n",
    "\n",
    "plt.show()\n"
   ]
  },
  {
   "cell_type": "markdown",
   "metadata": {},
   "source": [
    "# Overlaid scatterplots in 2D"
   ]
  },
  {
   "cell_type": "code",
   "execution_count": null,
   "metadata": {
    "collapsed": true
   },
   "outputs": [],
   "source": [
    "fig, ax = plt.subplots()\n",
    "\n",
    "for x in data.columns[1:]:\n",
    "    ax.scatter(data['Time (s)'], data[x], color='k', alpha=0.1, s=1)\n",
    "\n",
    "ax.set_xlabel('Time')\n",
    "ax.set_xlim(0, 200)\n",
    "ax.set_ylabel('A254')\n",
    "ax.set_ylim(-0.2, 1.2)\n",
    "\n",
    "plt.show()"
   ]
  },
  {
   "cell_type": "markdown",
   "metadata": {},
   "source": [
    "# Scatterplots in 3D"
   ]
  },
  {
   "cell_type": "code",
   "execution_count": 6,
   "metadata": {
    "collapsed": true
   },
   "outputs": [],
   "source": [
    "from mpl_toolkits.mplot3d import Axes3D\n",
    "import matplotlib.pyplot as plt\n",
    "import numpy as np\n",
    "\n",
    "\n",
    "def randrange(n, vmin, vmax):\n",
    "    '''\n",
    "    Helper function to make an array of random numbers having shape (n, )\n",
    "    with each number distributed Uniform(vmin, vmax).\n",
    "    '''\n",
    "    return (vmax - vmin)*np.random.rand(n) + vmin\n",
    "\n",
    "fig = plt.figure()\n",
    "ax = fig.add_subplot(111, projection='3d')\n",
    "\n",
    "n = 100\n",
    "\n",
    "# For each set of style and range settings, plot n random points in the box\n",
    "# defined by x in [23, 32], y in [0, 100], z in [zlow, zhigh].\n",
    "for c, m, zlow, zhigh in [('r', 'o', -50, -25), ('b', '^', -30, -5)]:\n",
    "    xs = randrange(n, 23, 32)\n",
    "    ys = randrange(n, 0, 100)\n",
    "    zs = randrange(n, zlow, zhigh)\n",
    "    ax.scatter(xs, ys, zs, c=c, marker=m)\n",
    "\n",
    "ax.set_xlabel('X Label')\n",
    "ax.set_ylabel('Y Label')\n",
    "ax.set_zlabel('Z Label')\n",
    "\n",
    "plt.show()\n"
   ]
  },
  {
   "cell_type": "markdown",
   "metadata": {},
   "source": [
    "# Bar graphs in 3D"
   ]
  },
  {
   "cell_type": "code",
   "execution_count": 28,
   "metadata": {
    "collapsed": true
   },
   "outputs": [],
   "source": [
    "from mpl_toolkits.mplot3d import Axes3D\n",
    "import matplotlib.pyplot as plt\n",
    "import numpy as np\n",
    "\n",
    "fig = plt.figure()\n",
    "ax = fig.add_subplot(111, projection='3d')\n",
    "for c, z in zip(['r', 'g', 'b', 'y'], [30, 20, 10, 0]):\n",
    "    xs = np.arange(20)\n",
    "    ys = np.random.rand(20)\n",
    "\n",
    "    # You can provide either a single color or an array. To demonstrate this,\n",
    "    # the first bar of each set will be colored cyan.\n",
    "    cs = [c] * len(xs)\n",
    "    cs[0] = 'c'\n",
    "    ax.bar(xs, ys, zs=z, zdir='y', color=cs, alpha=0.8)\n",
    "\n",
    "ax.set_xlabel('X')\n",
    "ax.set_ylabel('Y')\n",
    "ax.set_zlabel('Z')\n",
    "\n",
    "plt.show()"
   ]
  }
 ],
 "metadata": {
  "kernelspec": {
   "display_name": "Python 2",
   "language": "python",
   "name": "python2"
  },
  "language_info": {
   "codemirror_mode": {
    "name": "ipython",
    "version": 2
   },
   "file_extension": ".py",
   "mimetype": "text/x-python",
   "name": "python",
   "nbconvert_exporter": "python",
   "pygments_lexer": "ipython2",
   "version": "2.7.11"
  }
 },
 "nbformat": 4,
 "nbformat_minor": 2
}
